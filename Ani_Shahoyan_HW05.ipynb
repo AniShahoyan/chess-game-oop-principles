{
 "cells": [
  {
   "cell_type": "code",
   "execution_count": 34,
   "metadata": {},
   "outputs": [],
   "source": [
    "import pandas as pd\n",
    "df = pd.read_csv(\"/Users/anishahoyan/Desktop/HW 05/imdb.csv\")"
   ]
  },
  {
   "cell_type": "markdown",
   "metadata": {},
   "source": [
    "# movie with the highest IMDB rating,"
   ]
  },
  {
   "cell_type": "code",
   "execution_count": 9,
   "metadata": {},
   "outputs": [
    {
     "name": "stdout",
     "output_type": "stream",
     "text": [
      "9.3\n"
     ]
    }
   ],
   "source": [
    "print(df[\"IMDB_Rating\"].max())  \n"
   ]
  },
  {
   "cell_type": "markdown",
   "metadata": {},
   "source": [
    "# the difference between release years of the oldest and newest movies"
   ]
  },
  {
   "cell_type": "code",
   "execution_count": 16,
   "metadata": {},
   "outputs": [
    {
     "name": "stdout",
     "output_type": "stream",
     "text": [
      "100.0\n"
     ]
    }
   ],
   "source": [
    "df[\"Released_Year\"] = pd.to_numeric(df[\"Released_Year\"], errors='coerce')\n",
    "difference = df[\"Released_Year\"].max() - df[\"Released_Year\"].min()\n",
    "print(difference)"
   ]
  },
  {
   "cell_type": "markdown",
   "metadata": {},
   "source": [
    "# the average runtime of all the movies"
   ]
  },
  {
   "cell_type": "code",
   "execution_count": 17,
   "metadata": {},
   "outputs": [
    {
     "name": "stdout",
     "output_type": "stream",
     "text": [
      "Average runtime: 122.891 minutes\n"
     ]
    }
   ],
   "source": [
    "# Remove the ' min' part and convert to numeric (integer)\n",
    "df[\"Runtime\"] = df[\"Runtime\"].str.replace(\" min\", \"\").astype(int)\n",
    "\n",
    "# Calculate the average runtime\n",
    "average_runtime = df[\"Runtime\"].mean()\n",
    "\n",
    "print(\"Average runtime:\", average_runtime, \"minutes\")"
   ]
  },
  {
   "cell_type": "markdown",
   "metadata": {},
   "source": [
    "# total revenue made by all the movies"
   ]
  },
  {
   "cell_type": "code",
   "execution_count": 18,
   "metadata": {},
   "outputs": [
    {
     "name": "stdout",
     "output_type": "stream",
     "text": [
      "Total revenue made by all the movies: 56536877976.0\n"
     ]
    }
   ],
   "source": [
    "# Removing commas and convert the \"Gross\" column to numeric\n",
    "df[\"Gross\"] = df[\"Gross\"].str.replace(\",\", \"\").astype(float)\n",
    "\n",
    "# Calculate the total revenue\n",
    "total_revenue = df[\"Gross\"].sum()\n",
    "\n",
    "print(\"Total revenue made by all the movies:\", total_revenue)"
   ]
  },
  {
   "cell_type": "markdown",
   "metadata": {},
   "source": [
    "# bottom 10 movies by meta score"
   ]
  },
  {
   "cell_type": "code",
   "execution_count": 20,
   "metadata": {},
   "outputs": [
    {
     "name": "stdout",
     "output_type": "stream",
     "text": [
      "Bottom 10 Movies by Meta Score:\n",
      "                       Series_Title  Meta_score\n",
      "788                        I Am Sam        28.0\n",
      "942            The Butterfly Effect        30.0\n",
      "356                  Tropa de Elite        33.0\n",
      "917                    Seven Pounds        36.0\n",
      "735                     Kai po che!        40.0\n",
      "957  Fear and Loathing in Las Vegas        41.0\n",
      "648             The Boondock Saints        44.0\n",
      "760                         Flipped        45.0\n",
      "677                        Predator        45.0\n",
      "935                  Jeux d'enfants        45.0\n"
     ]
    }
   ],
   "source": [
    "bottom_10_movies = df.sort_values(by=\"Meta_score\").head(10)\n",
    "\n",
    "print(\"Bottom 10 Movies by Meta Score:\")\n",
    "print(bottom_10_movies[['Series_Title', 'Meta_score']])"
   ]
  },
  {
   "cell_type": "markdown",
   "metadata": {},
   "source": [
    "# average IMDB rating for each genre"
   ]
  },
  {
   "cell_type": "code",
   "execution_count": 24,
   "metadata": {},
   "outputs": [
    {
     "name": "stdout",
     "output_type": "stream",
     "text": [
      "Average IMDb Rating for Each Genre:\n",
      "Genre\n",
      "Action       7.948677\n",
      "Adventure    7.952041\n",
      "Animation    7.930488\n",
      "Biography    7.935780\n",
      "Comedy       7.903433\n",
      "Crime        7.954545\n",
      "Drama        7.959392\n",
      "Family       7.912500\n",
      "Fantasy      7.931818\n",
      "Film-Noir    7.989474\n",
      "History      7.953571\n",
      "Horror       7.887500\n",
      "Music        7.914286\n",
      "Musical      7.947059\n",
      "Mystery      7.967677\n",
      "Romance      7.925600\n",
      "Sci-Fi       7.977612\n",
      "Sport        7.926316\n",
      "Thriller     7.909489\n",
      "War          8.013725\n",
      "Western      8.000000\n",
      "Name: IMDB_Rating, dtype: float64\n"
     ]
    }
   ],
   "source": [
    "# Split the genres and expand the DataFrame\n",
    "df_exploded = df.set_index([\"Series_Title\", \"IMDB_Rating\"])[\"Genre\"].str.split(\", \", expand=True).stack().reset_index(name=\"Genre\")\n",
    "\n",
    "# Calculate the average IMDb rating for each genre\n",
    "average_rating_by_genre = df_exploded.groupby(\"Genre\")[\"IMDB_Rating\"].mean()\n",
    "\n",
    "print(\"Average IMDb Rating for Each Genre:\")\n",
    "print(average_rating_by_genre)\n"
   ]
  },
  {
   "cell_type": "markdown",
   "metadata": {},
   "source": [
    "# frequency distribution of each genre (how many times each genre meets in the dataset)\n"
   ]
  },
  {
   "cell_type": "code",
   "execution_count": 29,
   "metadata": {},
   "outputs": [
    {
     "name": "stdout",
     "output_type": "stream",
     "text": [
      "Frequency Distribution of Each Genre:\n",
      "Genre\n",
      "Drama        724\n",
      "Comedy       233\n",
      "Crime        209\n",
      "Adventure    196\n",
      "Action       189\n",
      "Thriller     137\n",
      "Romance      125\n",
      "Biography    109\n",
      "Mystery       99\n",
      "Animation     82\n",
      "Sci-Fi        67\n",
      "Fantasy       66\n",
      "History       56\n",
      "Family        56\n",
      "War           51\n",
      "Music         35\n",
      "Horror        32\n",
      "Western       20\n",
      "Film-Noir     19\n",
      "Sport         19\n",
      "Musical       17\n",
      "Name: count, dtype: int64\n"
     ]
    }
   ],
   "source": [
    "# Split the genres and expand the DataFrame\n",
    "df_exploded = df.set_index([\"Series_Title\", \"IMDB_Rating\"])[\"Genre\"].str.split(\", \", expand=True).stack().reset_index(name=\"Genre\")\n",
    "\n",
    "# Calculate the frequency distribution of each genre\n",
    "genre_frequency = df_exploded[\"Genre\"].value_counts()\n",
    "\n",
    "print(\"Frequency Distribution of Each Genre:\")\n",
    "print(genre_frequency)"
   ]
  },
  {
   "cell_type": "markdown",
   "metadata": {},
   "source": [
    "# actor with the most star points (assume ‘Star1’ gives 4 points, ‘Star2’ gives 3, ‘Star3’gives 2 and ‘Star4’ gives a single point)."
   ]
  },
  {
   "cell_type": "code",
   "execution_count": null,
   "metadata": {},
   "outputs": [
    {
     "name": "stdout",
     "output_type": "stream",
     "text": [
      "Actor with the most star points: Robert De Niro with 59 points\n"
     ]
    }
   ],
   "source": [
    "# Map star columns to points\n",
    "star_points = {\n",
    "    \"Star1\": 4,\n",
    "    \"Star2\": 3,\n",
    "    \"Star3\": 2,\n",
    "    \"Star4\": 1\n",
    "}\n",
    "\n",
    "# Reshape the data so each actor appears in a row with their associated movie\n",
    "melted_df = pd.melt(df, id_vars=[\"Series_Title\"], value_vars=[\"Star1\", \"Star2\", \"Star3\", \"Star4\"], \n",
    "                    var_name=\"StarType\", value_name=\"Actor\")\n",
    "\n",
    "# Now, we calculate the points by merging with the star_points dictionary\n",
    "melted_df[\"Points\"] = melted_df[\"StarType\"].map(star_points)\n",
    "\n",
    "# Sum points for each actor\n",
    "actor_points = melted_df.groupby(\"Actor\")[\"Points\"].sum()\n",
    "\n",
    "# Find the actor with the most points\n",
    "max_points_actor = actor_points.idxmax()\n",
    "max_points = actor_points.max()\n",
    "\n",
    "print(f\"Actor with the most star points: {max_points_actor} with {max_points} points\")"
   ]
  }
 ],
 "metadata": {
  "kernelspec": {
   "display_name": "Python 3",
   "language": "python",
   "name": "python3"
  },
  "language_info": {
   "codemirror_mode": {
    "name": "ipython",
    "version": 3
   },
   "file_extension": ".py",
   "mimetype": "text/x-python",
   "name": "python",
   "nbconvert_exporter": "python",
   "pygments_lexer": "ipython3",
   "version": "3.13.0"
  }
 },
 "nbformat": 4,
 "nbformat_minor": 2
}
